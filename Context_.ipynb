{
  "nbformat": 4,
  "nbformat_minor": 0,
  "metadata": {
    "colab": {
      "provenance": [],
      "gpuType": "T4",
      "authorship_tag": "ABX9TyOW7k9vDSDT9hupHRDbRss8",
      "include_colab_link": true
    },
    "kernelspec": {
      "name": "python3",
      "display_name": "Python 3"
    },
    "language_info": {
      "name": "python"
    },
    "accelerator": "GPU"
  },
  "cells": [
    {
      "cell_type": "markdown",
      "metadata": {
        "id": "view-in-github",
        "colab_type": "text"
      },
      "source": [
        "<a href=\"https://colab.research.google.com/github/uroojfatima18/AI-Agents/blob/main/Context_.ipynb\" target=\"_parent\"><img src=\"https://colab.research.google.com/assets/colab-badge.svg\" alt=\"Open In Colab\"/></a>"
      ]
    },
    {
      "cell_type": "markdown",
      "source": [
        "#local context"
      ],
      "metadata": {
        "id": "M3djHdAQy1Pe"
      }
    },
    {
      "cell_type": "code",
      "source": [
        "!pip install -Uq openai-agents"
      ],
      "metadata": {
        "colab": {
          "base_uri": "https://localhost:8080/"
        },
        "id": "4aU15lyDy65c",
        "outputId": "c82dbebd-b7bc-452c-fdc1-fc6d935708ab"
      },
      "execution_count": 2,
      "outputs": [
        {
          "output_type": "stream",
          "name": "stdout",
          "text": [
            "\u001b[?25l   \u001b[90m━━━━━━━━━━━━━━━━━━━━━━━━━━━━━━━━━━━━━━━━\u001b[0m \u001b[32m0.0/120.2 kB\u001b[0m \u001b[31m?\u001b[0m eta \u001b[36m-:--:--\u001b[0m\r\u001b[2K   \u001b[90m━━━━━━━━━━━━━━━━━━━━━━━━━━━━━━━━━━━━━━━━\u001b[0m \u001b[32m120.2/120.2 kB\u001b[0m \u001b[31m7.1 MB/s\u001b[0m eta \u001b[36m0:00:00\u001b[0m\n",
            "\u001b[?25h\u001b[?25l   \u001b[90m━━━━━━━━━━━━━━━━━━━━━━━━━━━━━━━━━━━━━━━━\u001b[0m \u001b[32m0.0/129.3 kB\u001b[0m \u001b[31m?\u001b[0m eta \u001b[36m-:--:--\u001b[0m\r\u001b[2K   \u001b[90m━━━━━━━━━━━━━━━━━━━━━━━━━━━━━━━━━━━━━━━━\u001b[0m \u001b[32m129.3/129.3 kB\u001b[0m \u001b[31m11.9 MB/s\u001b[0m eta \u001b[36m0:00:00\u001b[0m\n",
            "\u001b[?25h\u001b[?25l   \u001b[90m━━━━━━━━━━━━━━━━━━━━━━━━━━━━━━━━━━━━━━━━\u001b[0m \u001b[32m0.0/130.3 kB\u001b[0m \u001b[31m?\u001b[0m eta \u001b[36m-:--:--\u001b[0m\r\u001b[2K   \u001b[90m━━━━━━━━━━━━━━━━━━━━━━━━━━━━━━━━━━━━━━━━\u001b[0m \u001b[32m130.3/130.3 kB\u001b[0m \u001b[31m11.3 MB/s\u001b[0m eta \u001b[36m0:00:00\u001b[0m\n",
            "\u001b[2K   \u001b[90m━━━━━━━━━━━━━━━━━━━━━━━━━━━━━━━━━━━━━━━━\u001b[0m \u001b[32m720.4/720.4 kB\u001b[0m \u001b[31m38.9 MB/s\u001b[0m eta \u001b[36m0:00:00\u001b[0m\n",
            "\u001b[2K   \u001b[90m━━━━━━━━━━━━━━━━━━━━━━━━━━━━━━━━━━━━━━━━\u001b[0m \u001b[32m44.4/44.4 kB\u001b[0m \u001b[31m3.7 MB/s\u001b[0m eta \u001b[36m0:00:00\u001b[0m\n",
            "\u001b[2K   \u001b[90m━━━━━━━━━━━━━━━━━━━━━━━━━━━━━━━━━━━━━━━━\u001b[0m \u001b[32m72.0/72.0 kB\u001b[0m \u001b[31m5.4 MB/s\u001b[0m eta \u001b[36m0:00:00\u001b[0m\n",
            "\u001b[2K   \u001b[90m━━━━━━━━━━━━━━━━━━━━━━━━━━━━━━━━━━━━━━━━\u001b[0m \u001b[32m62.5/62.5 kB\u001b[0m \u001b[31m4.3 MB/s\u001b[0m eta \u001b[36m0:00:00\u001b[0m\n",
            "\u001b[?25h"
          ]
        }
      ]
    },
    {
      "cell_type": "code",
      "source": [
        "import nest_asyncio\n",
        "nest_asyncio.apply()"
      ],
      "metadata": {
        "id": "Sckc20T0zCB8"
      },
      "execution_count": 3,
      "outputs": []
    },
    {
      "cell_type": "code",
      "source": [
        "from pydantic  import BaseModel\n",
        "from agents import AsyncOpenAI,OpenAIChatCompletionsModel,RunConfig\n",
        "from google.colab import userdata\n"
      ],
      "metadata": {
        "id": "MDIjg8juzCjw"
      },
      "execution_count": 4,
      "outputs": []
    },
    {
      "cell_type": "code",
      "source": [
        "gemini_api_key = userdata.get(\"GEMINI_API_KEY\")"
      ],
      "metadata": {
        "id": "v5JjLLAAzTmc"
      },
      "execution_count": 5,
      "outputs": []
    },
    {
      "cell_type": "code",
      "source": [
        "# Check if the API key is present; if not, raise an error\n",
        "if not gemini_api_key:\n",
        "    raise ValueError(\"GEMINI_API_KEY is not set. Please ensure it is defined in your .env file.\")\n",
        "\n",
        "#Reference: https://ai.google.dev/gemini-api/docs/openai\n",
        "external_client = AsyncOpenAI(\n",
        "    api_key=gemini_api_key,\n",
        "    base_url=\"https://generativelanguage.googleapis.com/v1beta/openai/\",\n",
        ")\n",
        "\n",
        "model = OpenAIChatCompletionsModel(\n",
        "    model=\"gemini-2.0-flash\",\n",
        "    openai_client=external_client\n",
        ")"
      ],
      "metadata": {
        "id": "umc99POmS8oz"
      },
      "execution_count": 6,
      "outputs": []
    },
    {
      "cell_type": "code",
      "source": [
        "from agents import set_default_openai_client, set_tracing_disabled\n",
        "set_default_openai_client(external_client)\n",
        "set_tracing_disabled(True)"
      ],
      "metadata": {
        "id": "9qyuBTMPTI4n"
      },
      "execution_count": 7,
      "outputs": []
    },
    {
      "cell_type": "code",
      "source": [
        "\n",
        "import asyncio\n",
        "from dataclasses import dataclass\n",
        "from agents import Agent, RunContextWrapper, Runner, function_tool\n",
        "\n",
        "@dataclass\n",
        "class UserInfo:      #object using dataclass\n",
        "  name: str\n",
        "  age: int\n",
        "  location:str =\"Pakistan\"\n",
        "\n",
        "@function_tool\n",
        "async def fetch_user_age(Wrapper: RunContextWrapper[UserInfo]) ->str:\n",
        "  '''Returns the age of the user.'''\n",
        "  print(\"[Tool]\" , Wrapper, \"\\n\\n\")\n",
        "  return f\" This User {Wrapper.context.name} and {Wrapper.context.age}year's old.\"\n",
        "\n",
        "\n",
        "@function_tool\n",
        "async def fetch_user_location(Wrapper: RunContextWrapper[UserInfo]) ->str:\n",
        "  '''Returns the location of the user.'''\n",
        "  print(\"[Tool current location ]\" , Wrapper, \"\\n\\n\")\n",
        "  return f\"The User{Wrapper.context.name} is from {Wrapper.context.location} \"\n",
        "\n",
        "@function_tool\n",
        "async def fetch_user_name(Wrapper: RunContextWrapper[UserInfo]) ->str:\n",
        "  '''Returns the name of the user.'''\n",
        "  print(\"[Tool]\" , Wrapper, \"\\n\\n\")\n",
        "  return f\"The User{Wrapper.context.name} is from {Wrapper.context.name} \"\n",
        "\n",
        "async def main():\n",
        "  user_info = UserInfo(name=\"Urooj\", age =19)\n",
        "\n",
        "  agent = Agent[UserInfo](\n",
        "        name=\"Assistant\",\n",
        "        tools=[fetch_user_location,fetch_user_age,fetch_user_name],\n",
        "        model=model\n",
        "        )\n",
        "  result = await Runner.run(\n",
        "        starting_agent=agent,\n",
        "        input=\"What is the name , age , current location of user?\",\n",
        "        context=user_info,\n",
        "    )\n",
        "  print(result.final_output)\n",
        "\n",
        "if __name__ == \"__main__\":\n",
        "  asyncio.run(main())\n"
      ],
      "metadata": {
        "colab": {
          "base_uri": "https://localhost:8080/"
        },
        "id": "umZxHZdRzg72",
        "outputId": "43cf369d-c0e1-4265-b808-00fc3dec6755"
      },
      "execution_count": 8,
      "outputs": [
        {
          "output_type": "stream",
          "name": "stdout",
          "text": [
            "[Tool] RunContextWrapper(context=UserInfo(name='Urooj', age=19, location='Pakistan'), usage=Usage(requests=1, input_tokens=48, input_tokens_details=InputTokensDetails(cached_tokens=0), output_tokens=15, output_tokens_details=OutputTokensDetails(reasoning_tokens=0), total_tokens=63)) \n",
            "\n",
            "\n",
            "[Tool] RunContextWrapper(context=UserInfo(name='Urooj', age=19, location='Pakistan'), usage=Usage(requests=1, input_tokens=48, input_tokens_details=InputTokensDetails(cached_tokens=0), output_tokens=15, output_tokens_details=OutputTokensDetails(reasoning_tokens=0), total_tokens=63)) \n",
            "\n",
            "\n",
            "[Tool current location ] RunContextWrapper(context=UserInfo(name='Urooj', age=19, location='Pakistan'), usage=Usage(requests=1, input_tokens=48, input_tokens_details=InputTokensDetails(cached_tokens=0), output_tokens=15, output_tokens_details=OutputTokensDetails(reasoning_tokens=0), total_tokens=63)) \n",
            "\n",
            "\n",
            "The user's name is Urooj, age is 19, and current location is Pakistan.\n",
            "\n"
          ]
        }
      ]
    },
    {
      "cell_type": "markdown",
      "source": [
        "#Agent/LLM Context"
      ],
      "metadata": {
        "id": "B9d99qbfo9Ib"
      }
    },
    {
      "cell_type": "code",
      "source": [
        "from agents import enable_verbose_stdout_logging\n",
        "enable_verbose_stdout_logging()"
      ],
      "metadata": {
        "id": "hPjOqlf9tHUi"
      },
      "execution_count": 10,
      "outputs": []
    },
    {
      "cell_type": "code",
      "source": [
        "import asyncio\n",
        "from dataclasses import dataclass\n",
        "from agents import Agent, RunContextWrapper, Runner, function_tool\n",
        "\n",
        "@dataclass\n",
        "class UserInfo:      #object using dataclass\n",
        "  name: str\n",
        "  age: int\n",
        "  location:str =\"Pakistan\"\n",
        "\n",
        "@function_tool\n",
        "async def Greet_user(context:RunContextWrapper[UserInfo],greeting :str)->str:\n",
        "  \"\"\"greet with user with thier name.\n",
        "   Args:\n",
        "    greeting: A specialed greeting message for user\n",
        "  \"\"\"\n",
        "  name = context.context.name\n",
        "  return f\"{name} ,{greeting}\"\n",
        "\n",
        "\n",
        "\n",
        "async def main():\n",
        "  userinfo=UserInfo(name=\"Urooj fatima\" ,age =\"19\")\n",
        "\n",
        "  agent = Agent[UserInfo](\n",
        "        name=\"Assistant\",\n",
        "        tools=[Greet_user],\n",
        "        model=model,\n",
        "        instructions=\"Always greet the user using greet_user and warmly greet them panaversity. \"\n",
        "        )\n",
        "\n",
        "  result = await Runner.run(\n",
        "        starting_agent=agent,\n",
        "        input=\"hello\",\n",
        "        context=userinfo,\n",
        "    )\n",
        "  print(result.final_output)\n",
        "\n",
        "\n",
        "if __name__ == \"__main__\":\n",
        "  asyncio.run(main())\n",
        "\n",
        "\n"
      ],
      "metadata": {
        "colab": {
          "base_uri": "https://localhost:8080/"
        },
        "id": "OBilAUT8pFnY",
        "outputId": "d484d6c3-fe64-4d30-889d-542335457699"
      },
      "execution_count": 11,
      "outputs": [
        {
          "output_type": "stream",
          "name": "stdout",
          "text": [
            "Tracing is disabled. Not creating trace Agent workflow\n",
            "Tracing is disabled. Not creating trace Agent workflow\n"
          ]
        },
        {
          "output_type": "stream",
          "name": "stderr",
          "text": [
            "DEBUG:openai.agents:Tracing is disabled. Not creating trace Agent workflow\n"
          ]
        },
        {
          "output_type": "stream",
          "name": "stdout",
          "text": [
            "Setting current trace: no-op\n",
            "Setting current trace: no-op\n"
          ]
        },
        {
          "output_type": "stream",
          "name": "stderr",
          "text": [
            "DEBUG:openai.agents:Setting current trace: no-op\n"
          ]
        },
        {
          "output_type": "stream",
          "name": "stdout",
          "text": [
            "Tracing is disabled. Not creating span <agents.tracing.span_data.AgentSpanData object at 0x7c11028b7e30>\n",
            "Tracing is disabled. Not creating span <agents.tracing.span_data.AgentSpanData object at 0x7c11028b7e30>\n"
          ]
        },
        {
          "output_type": "stream",
          "name": "stderr",
          "text": [
            "DEBUG:openai.agents:Tracing is disabled. Not creating span <agents.tracing.span_data.AgentSpanData object at 0x7c11028b7e30>\n"
          ]
        },
        {
          "output_type": "stream",
          "name": "stdout",
          "text": [
            "Running agent Assistant (turn 1)\n",
            "Running agent Assistant (turn 1)\n"
          ]
        },
        {
          "output_type": "stream",
          "name": "stderr",
          "text": [
            "DEBUG:openai.agents:Running agent Assistant (turn 1)\n"
          ]
        },
        {
          "output_type": "stream",
          "name": "stdout",
          "text": [
            "Tracing is disabled. Not creating span <agents.tracing.span_data.GenerationSpanData object at 0x7c11028b7f50>\n",
            "Tracing is disabled. Not creating span <agents.tracing.span_data.GenerationSpanData object at 0x7c11028b7f50>\n"
          ]
        },
        {
          "output_type": "stream",
          "name": "stderr",
          "text": [
            "DEBUG:openai.agents:Tracing is disabled. Not creating span <agents.tracing.span_data.GenerationSpanData object at 0x7c11028b7f50>\n"
          ]
        },
        {
          "output_type": "stream",
          "name": "stdout",
          "text": [
            "[\n",
            "  {\n",
            "    \"content\": \"Always greet the user using greet_user and warmly greet them panaversity. \",\n",
            "    \"role\": \"system\"\n",
            "  },\n",
            "  {\n",
            "    \"role\": \"user\",\n",
            "    \"content\": \"hello\"\n",
            "  }\n",
            "]\n",
            "Tools:\n",
            "[\n",
            "  {\n",
            "    \"type\": \"function\",\n",
            "    \"function\": {\n",
            "      \"name\": \"Greet_user\",\n",
            "      \"description\": \"greet with user with thier name.\\nArgs:\\n greeting: A specialed greeting message for user\",\n",
            "      \"parameters\": {\n",
            "        \"properties\": {\n",
            "          \"greeting\": {\n",
            "            \"title\": \"Greeting\",\n",
            "            \"type\": \"string\"\n",
            "          }\n",
            "        },\n",
            "        \"required\": [\n",
            "          \"greeting\"\n",
            "        ],\n",
            "        \"title\": \"Greet_user_args\",\n",
            "        \"type\": \"object\",\n",
            "        \"additionalProperties\": false\n",
            "      }\n",
            "    }\n",
            "  }\n",
            "]\n",
            "Stream: False\n",
            "Tool choice: NOT_GIVEN\n",
            "Response format: NOT_GIVEN\n",
            "\n",
            "[\n",
            "  {\n",
            "    \"content\": \"Always greet the user using greet_user and warmly greet them panaversity. \",\n",
            "    \"role\": \"system\"\n",
            "  },\n",
            "  {\n",
            "    \"role\": \"user\",\n",
            "    \"content\": \"hello\"\n",
            "  }\n",
            "]\n",
            "Tools:\n",
            "[\n",
            "  {\n",
            "    \"type\": \"function\",\n",
            "    \"function\": {\n",
            "      \"name\": \"Greet_user\",\n",
            "      \"description\": \"greet with user with thier name.\\nArgs:\\n greeting: A specialed greeting message for user\",\n",
            "      \"parameters\": {\n",
            "        \"properties\": {\n",
            "          \"greeting\": {\n",
            "            \"title\": \"Greeting\",\n",
            "            \"type\": \"string\"\n",
            "          }\n",
            "        },\n",
            "        \"required\": [\n",
            "          \"greeting\"\n",
            "        ],\n",
            "        \"title\": \"Greet_user_args\",\n",
            "        \"type\": \"object\",\n",
            "        \"additionalProperties\": false\n",
            "      }\n",
            "    }\n",
            "  }\n",
            "]\n",
            "Stream: False\n",
            "Tool choice: NOT_GIVEN\n",
            "Response format: NOT_GIVEN\n",
            "\n"
          ]
        },
        {
          "output_type": "stream",
          "name": "stderr",
          "text": [
            "DEBUG:openai.agents:[\n",
            "  {\n",
            "    \"content\": \"Always greet the user using greet_user and warmly greet them panaversity. \",\n",
            "    \"role\": \"system\"\n",
            "  },\n",
            "  {\n",
            "    \"role\": \"user\",\n",
            "    \"content\": \"hello\"\n",
            "  }\n",
            "]\n",
            "Tools:\n",
            "[\n",
            "  {\n",
            "    \"type\": \"function\",\n",
            "    \"function\": {\n",
            "      \"name\": \"Greet_user\",\n",
            "      \"description\": \"greet with user with thier name.\\nArgs:\\n greeting: A specialed greeting message for user\",\n",
            "      \"parameters\": {\n",
            "        \"properties\": {\n",
            "          \"greeting\": {\n",
            "            \"title\": \"Greeting\",\n",
            "            \"type\": \"string\"\n",
            "          }\n",
            "        },\n",
            "        \"required\": [\n",
            "          \"greeting\"\n",
            "        ],\n",
            "        \"title\": \"Greet_user_args\",\n",
            "        \"type\": \"object\",\n",
            "        \"additionalProperties\": false\n",
            "      }\n",
            "    }\n",
            "  }\n",
            "]\n",
            "Stream: False\n",
            "Tool choice: NOT_GIVEN\n",
            "Response format: NOT_GIVEN\n",
            "\n"
          ]
        },
        {
          "output_type": "stream",
          "name": "stdout",
          "text": [
            "LLM resp:\n",
            "{\n",
            "  \"content\": null,\n",
            "  \"refusal\": null,\n",
            "  \"role\": \"assistant\",\n",
            "  \"annotations\": null,\n",
            "  \"audio\": null,\n",
            "  \"function_call\": null,\n",
            "  \"tool_calls\": [\n",
            "    {\n",
            "      \"id\": \"\",\n",
            "      \"function\": {\n",
            "        \"arguments\": \"{\\\"greeting\\\":\\\"Welcome!\\\"}\",\n",
            "        \"name\": \"Greet_user\"\n",
            "      },\n",
            "      \"type\": \"function\"\n",
            "    }\n",
            "  ]\n",
            "}\n",
            "\n",
            "LLM resp:\n",
            "{\n",
            "  \"content\": null,\n",
            "  \"refusal\": null,\n",
            "  \"role\": \"assistant\",\n",
            "  \"annotations\": null,\n",
            "  \"audio\": null,\n",
            "  \"function_call\": null,\n",
            "  \"tool_calls\": [\n",
            "    {\n",
            "      \"id\": \"\",\n",
            "      \"function\": {\n",
            "        \"arguments\": \"{\\\"greeting\\\":\\\"Welcome!\\\"}\",\n",
            "        \"name\": \"Greet_user\"\n",
            "      },\n",
            "      \"type\": \"function\"\n",
            "    }\n",
            "  ]\n",
            "}\n",
            "\n"
          ]
        },
        {
          "output_type": "stream",
          "name": "stderr",
          "text": [
            "DEBUG:openai.agents:LLM resp:\n",
            "{\n",
            "  \"content\": null,\n",
            "  \"refusal\": null,\n",
            "  \"role\": \"assistant\",\n",
            "  \"annotations\": null,\n",
            "  \"audio\": null,\n",
            "  \"function_call\": null,\n",
            "  \"tool_calls\": [\n",
            "    {\n",
            "      \"id\": \"\",\n",
            "      \"function\": {\n",
            "        \"arguments\": \"{\\\"greeting\\\":\\\"Welcome!\\\"}\",\n",
            "        \"name\": \"Greet_user\"\n",
            "      },\n",
            "      \"type\": \"function\"\n",
            "    }\n",
            "  ]\n",
            "}\n",
            "\n"
          ]
        },
        {
          "output_type": "stream",
          "name": "stdout",
          "text": [
            "Tracing is disabled. Not creating span <agents.tracing.span_data.FunctionSpanData object at 0x7c11028b7f50>\n",
            "Tracing is disabled. Not creating span <agents.tracing.span_data.FunctionSpanData object at 0x7c11028b7f50>\n"
          ]
        },
        {
          "output_type": "stream",
          "name": "stderr",
          "text": [
            "DEBUG:openai.agents:Tracing is disabled. Not creating span <agents.tracing.span_data.FunctionSpanData object at 0x7c11028b7f50>\n"
          ]
        },
        {
          "output_type": "stream",
          "name": "stdout",
          "text": [
            "Invoking tool Greet_user with input {\"greeting\":\"Welcome!\"}\n",
            "Invoking tool Greet_user with input {\"greeting\":\"Welcome!\"}\n"
          ]
        },
        {
          "output_type": "stream",
          "name": "stderr",
          "text": [
            "DEBUG:openai.agents:Invoking tool Greet_user with input {\"greeting\":\"Welcome!\"}\n"
          ]
        },
        {
          "output_type": "stream",
          "name": "stdout",
          "text": [
            "Tool call args: ['Welcome!'], kwargs: {}\n",
            "Tool call args: ['Welcome!'], kwargs: {}\n"
          ]
        },
        {
          "output_type": "stream",
          "name": "stderr",
          "text": [
            "DEBUG:openai.agents:Tool call args: ['Welcome!'], kwargs: {}\n"
          ]
        },
        {
          "output_type": "stream",
          "name": "stdout",
          "text": [
            "Tool Greet_user returned Urooj fatima ,Welcome!\n",
            "Tool Greet_user returned Urooj fatima ,Welcome!\n"
          ]
        },
        {
          "output_type": "stream",
          "name": "stderr",
          "text": [
            "DEBUG:openai.agents:Tool Greet_user returned Urooj fatima ,Welcome!\n"
          ]
        },
        {
          "output_type": "stream",
          "name": "stdout",
          "text": [
            "Running agent Assistant (turn 2)\n",
            "Running agent Assistant (turn 2)\n"
          ]
        },
        {
          "output_type": "stream",
          "name": "stderr",
          "text": [
            "DEBUG:openai.agents:Running agent Assistant (turn 2)\n"
          ]
        },
        {
          "output_type": "stream",
          "name": "stdout",
          "text": [
            "Tracing is disabled. Not creating span <agents.tracing.span_data.GenerationSpanData object at 0x7c11028b7f50>\n",
            "Tracing is disabled. Not creating span <agents.tracing.span_data.GenerationSpanData object at 0x7c11028b7f50>\n"
          ]
        },
        {
          "output_type": "stream",
          "name": "stderr",
          "text": [
            "DEBUG:openai.agents:Tracing is disabled. Not creating span <agents.tracing.span_data.GenerationSpanData object at 0x7c11028b7f50>\n"
          ]
        },
        {
          "output_type": "stream",
          "name": "stdout",
          "text": [
            "[\n",
            "  {\n",
            "    \"content\": \"Always greet the user using greet_user and warmly greet them panaversity. \",\n",
            "    \"role\": \"system\"\n",
            "  },\n",
            "  {\n",
            "    \"role\": \"user\",\n",
            "    \"content\": \"hello\"\n",
            "  },\n",
            "  {\n",
            "    \"role\": \"assistant\",\n",
            "    \"tool_calls\": [\n",
            "      {\n",
            "        \"id\": \"\",\n",
            "        \"type\": \"function\",\n",
            "        \"function\": {\n",
            "          \"name\": \"Greet_user\",\n",
            "          \"arguments\": \"{\\\"greeting\\\":\\\"Welcome!\\\"}\"\n",
            "        }\n",
            "      }\n",
            "    ]\n",
            "  },\n",
            "  {\n",
            "    \"role\": \"tool\",\n",
            "    \"tool_call_id\": \"\",\n",
            "    \"content\": \"Urooj fatima ,Welcome!\"\n",
            "  }\n",
            "]\n",
            "Tools:\n",
            "[\n",
            "  {\n",
            "    \"type\": \"function\",\n",
            "    \"function\": {\n",
            "      \"name\": \"Greet_user\",\n",
            "      \"description\": \"greet with user with thier name.\\nArgs:\\n greeting: A specialed greeting message for user\",\n",
            "      \"parameters\": {\n",
            "        \"properties\": {\n",
            "          \"greeting\": {\n",
            "            \"title\": \"Greeting\",\n",
            "            \"type\": \"string\"\n",
            "          }\n",
            "        },\n",
            "        \"required\": [\n",
            "          \"greeting\"\n",
            "        ],\n",
            "        \"title\": \"Greet_user_args\",\n",
            "        \"type\": \"object\",\n",
            "        \"additionalProperties\": false\n",
            "      }\n",
            "    }\n",
            "  }\n",
            "]\n",
            "Stream: False\n",
            "Tool choice: NOT_GIVEN\n",
            "Response format: NOT_GIVEN\n",
            "\n",
            "[\n",
            "  {\n",
            "    \"content\": \"Always greet the user using greet_user and warmly greet them panaversity. \",\n",
            "    \"role\": \"system\"\n",
            "  },\n",
            "  {\n",
            "    \"role\": \"user\",\n",
            "    \"content\": \"hello\"\n",
            "  },\n",
            "  {\n",
            "    \"role\": \"assistant\",\n",
            "    \"tool_calls\": [\n",
            "      {\n",
            "        \"id\": \"\",\n",
            "        \"type\": \"function\",\n",
            "        \"function\": {\n",
            "          \"name\": \"Greet_user\",\n",
            "          \"arguments\": \"{\\\"greeting\\\":\\\"Welcome!\\\"}\"\n",
            "        }\n",
            "      }\n",
            "    ]\n",
            "  },\n",
            "  {\n",
            "    \"role\": \"tool\",\n",
            "    \"tool_call_id\": \"\",\n",
            "    \"content\": \"Urooj fatima ,Welcome!\"\n",
            "  }\n",
            "]\n",
            "Tools:\n",
            "[\n",
            "  {\n",
            "    \"type\": \"function\",\n",
            "    \"function\": {\n",
            "      \"name\": \"Greet_user\",\n",
            "      \"description\": \"greet with user with thier name.\\nArgs:\\n greeting: A specialed greeting message for user\",\n",
            "      \"parameters\": {\n",
            "        \"properties\": {\n",
            "          \"greeting\": {\n",
            "            \"title\": \"Greeting\",\n",
            "            \"type\": \"string\"\n",
            "          }\n",
            "        },\n",
            "        \"required\": [\n",
            "          \"greeting\"\n",
            "        ],\n",
            "        \"title\": \"Greet_user_args\",\n",
            "        \"type\": \"object\",\n",
            "        \"additionalProperties\": false\n",
            "      }\n",
            "    }\n",
            "  }\n",
            "]\n",
            "Stream: False\n",
            "Tool choice: NOT_GIVEN\n",
            "Response format: NOT_GIVEN\n",
            "\n"
          ]
        },
        {
          "output_type": "stream",
          "name": "stderr",
          "text": [
            "DEBUG:openai.agents:[\n",
            "  {\n",
            "    \"content\": \"Always greet the user using greet_user and warmly greet them panaversity. \",\n",
            "    \"role\": \"system\"\n",
            "  },\n",
            "  {\n",
            "    \"role\": \"user\",\n",
            "    \"content\": \"hello\"\n",
            "  },\n",
            "  {\n",
            "    \"role\": \"assistant\",\n",
            "    \"tool_calls\": [\n",
            "      {\n",
            "        \"id\": \"\",\n",
            "        \"type\": \"function\",\n",
            "        \"function\": {\n",
            "          \"name\": \"Greet_user\",\n",
            "          \"arguments\": \"{\\\"greeting\\\":\\\"Welcome!\\\"}\"\n",
            "        }\n",
            "      }\n",
            "    ]\n",
            "  },\n",
            "  {\n",
            "    \"role\": \"tool\",\n",
            "    \"tool_call_id\": \"\",\n",
            "    \"content\": \"Urooj fatima ,Welcome!\"\n",
            "  }\n",
            "]\n",
            "Tools:\n",
            "[\n",
            "  {\n",
            "    \"type\": \"function\",\n",
            "    \"function\": {\n",
            "      \"name\": \"Greet_user\",\n",
            "      \"description\": \"greet with user with thier name.\\nArgs:\\n greeting: A specialed greeting message for user\",\n",
            "      \"parameters\": {\n",
            "        \"properties\": {\n",
            "          \"greeting\": {\n",
            "            \"title\": \"Greeting\",\n",
            "            \"type\": \"string\"\n",
            "          }\n",
            "        },\n",
            "        \"required\": [\n",
            "          \"greeting\"\n",
            "        ],\n",
            "        \"title\": \"Greet_user_args\",\n",
            "        \"type\": \"object\",\n",
            "        \"additionalProperties\": false\n",
            "      }\n",
            "    }\n",
            "  }\n",
            "]\n",
            "Stream: False\n",
            "Tool choice: NOT_GIVEN\n",
            "Response format: NOT_GIVEN\n",
            "\n"
          ]
        },
        {
          "output_type": "stream",
          "name": "stdout",
          "text": [
            "LLM resp:\n",
            "{\n",
            "  \"content\": \"Hello Urooj fatima, Welcome! I hope you are having a great day! How can I help you today?\\n\",\n",
            "  \"refusal\": null,\n",
            "  \"role\": \"assistant\",\n",
            "  \"annotations\": null,\n",
            "  \"audio\": null,\n",
            "  \"function_call\": null,\n",
            "  \"tool_calls\": null\n",
            "}\n",
            "\n",
            "LLM resp:\n",
            "{\n",
            "  \"content\": \"Hello Urooj fatima, Welcome! I hope you are having a great day! How can I help you today?\\n\",\n",
            "  \"refusal\": null,\n",
            "  \"role\": \"assistant\",\n",
            "  \"annotations\": null,\n",
            "  \"audio\": null,\n",
            "  \"function_call\": null,\n",
            "  \"tool_calls\": null\n",
            "}\n",
            "\n"
          ]
        },
        {
          "output_type": "stream",
          "name": "stderr",
          "text": [
            "DEBUG:openai.agents:LLM resp:\n",
            "{\n",
            "  \"content\": \"Hello Urooj fatima, Welcome! I hope you are having a great day! How can I help you today?\\n\",\n",
            "  \"refusal\": null,\n",
            "  \"role\": \"assistant\",\n",
            "  \"annotations\": null,\n",
            "  \"audio\": null,\n",
            "  \"function_call\": null,\n",
            "  \"tool_calls\": null\n",
            "}\n",
            "\n"
          ]
        },
        {
          "output_type": "stream",
          "name": "stdout",
          "text": [
            "Resetting current trace\n",
            "Resetting current trace\n"
          ]
        },
        {
          "output_type": "stream",
          "name": "stderr",
          "text": [
            "DEBUG:openai.agents:Resetting current trace\n"
          ]
        },
        {
          "output_type": "stream",
          "name": "stdout",
          "text": [
            "Hello Urooj fatima, Welcome! I hope you are having a great day! How can I help you today?\n",
            "\n"
          ]
        }
      ]
    }
  ]
}